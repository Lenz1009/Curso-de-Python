{
  "nbformat": 4,
  "nbformat_minor": 0,
  "metadata": {
    "colab": {
      "provenance": [],
      "authorship_tag": "ABX9TyM5z9rbJzfe6yuAUfmZ0u8i",
      "include_colab_link": true
    },
    "kernelspec": {
      "name": "python3",
      "display_name": "Python 3"
    },
    "language_info": {
      "name": "python"
    }
  },
  "cells": [
    {
      "cell_type": "markdown",
      "metadata": {
        "id": "view-in-github",
        "colab_type": "text"
      },
      "source": [
        "<a href=\"https://colab.research.google.com/github/Lenz1009/Curso-de-Python/blob/main/Semana%201%20Alura.ipynb\" target=\"_parent\"><img src=\"https://colab.research.google.com/assets/colab-badge.svg\" alt=\"Open In Colab\"/></a>"
      ]
    },
    {
      "cell_type": "markdown",
      "source": [
        "**Atividade 1 para praticar da aula da Alura**\n",
        "\n",
        "1. Crie um programa que solicite à pessoa usuária digitar seu nome, e imprima “Olá, [nome]!”.\n",
        "\n",
        "2. Crie um programa que solicite à pessoa usuária digitar seu nome e idade, e imprima “Olá, [nome], você tem [idade] anos.”.\n",
        "\n",
        "3. Crie um programa que solicite à pessoa usuária digitar seu nome, idade e altura em metros, e imprima “Olá, [nome], você tem [idade] anos e mede [altura] metros!”."
      ],
      "metadata": {
        "id": "idkVtr3iP2e7"
      }
    },
    {
      "cell_type": "code",
      "source": [
        "Nome = input(f\"Qual é o seu nome?\\n\")\n",
        "Idade = int(input(f\"E qual é a sua idade {Nome}?\\n\"))\n",
        "Altura = float(input(f\"E quantos metros você tem de altura {Nome}?(use o ponto como separados decimal)\\n\"))\n",
        "A_metros = int(Altura//1)\n",
        "A_centimetros = int((Altura%1)*100)\n",
        "print(f\"Olá, {Nome}, você tem {Idade} anos e mede {A_metros} metros e {A_centimetros} centímetros\")\n"
      ],
      "metadata": {
        "id": "gRxXe8u2qZnX",
        "colab": {
          "base_uri": "https://localhost:8080/"
        },
        "outputId": "f599b306-b1d3-4d28-c17a-79e7ee5bafae"
      },
      "execution_count": 13,
      "outputs": [
        {
          "output_type": "stream",
          "name": "stdout",
          "text": [
            "Qual é o seu nome?\n",
            "GUI\n",
            "E qual é a sua idade GUI?\n",
            "18\n",
            "E quantos metros você tem de altura GUI?(use o ponto como separados decimal)\n",
            "1.59\n",
            "Olá, GUI, você tem 18 anos e mede 1 metros e 59 centímetros\n"
          ]
        }
      ]
    },
    {
      "cell_type": "markdown",
      "source": [],
      "metadata": {
        "id": "t3D0_0eETJ0G"
      }
    },
    {
      "cell_type": "markdown",
      "source": [
        "**Atividade sobre if, else e operadores**\n",
        "\n",
        "1) Escreva um programa que peça à pessoa usuária para fornecer dois números e exibir o número maior.\n",
        "\n",
        "2) Escreva um programa que solicite o percentual de crescimento de produção de uma empresa e informe se houve um crescimento (porcentagem positiva) ou decrescimento (porcentagem negativa).\n",
        "\n",
        "3) Escreva um programa que determine se uma letra fornecida pela pessoa usuária é uma vogal ou consoante.\n",
        "\n",
        "4) Escreva um programa que leia valores médios de preços de um modelo de carro por 3 anos consecutivos e exiba o valor mais alto e mais baixo entre esses três anos.\n",
        "\n",
        "5) Escreva um programa que pergunte sobre o preço de três produtos e indique qual é o produto mais barato para comprar.\n",
        "\n",
        "6) Escreva um programa que leia três números e os exiba em ordem decrescente.\n",
        "\n",
        "7) Escreva um programa que pergunte em qual turno a pessoa usuária estuda (\"manhã\", \"tarde\" ou \"noite\") e exiba a mensagem \"Bom Dia!\", \"Boa Tarde!\", \"Boa Noite!\", ou \"Valor Inválido!\", conforme o caso.\n",
        "\n",
        "8) Escreva um programa que peça um número inteiro à pessoa usuária e determine se ele é par ou ímpar. Dica: Você pode utilizar o operador módulo %.\n",
        "\n",
        "9) Escreva um programa que peça um número à pessoa usuária e informe se ele é inteiro ou decimal.\n",
        "\n",
        "**Momento dos projetos**\n",
        "\n",
        "10) Um programa deve ser escrito para ler dois números e, em seguida, perguntar à pessoa usuária qual operação ele deseja realizar. O resultado da operação deve incluir informações sobre o número - se é par ou ímpar, positivo ou negativo e inteiro ou decimal.\n",
        "\n",
        "11) Escreva um programa que peça à pessoa usuária três números que representam os lados de um triângulo. O programa deve informar se os valores podem ser utilizados para formar um triângulo e, caso afirmativo, se ele é equilátero, isósceles ou escaleno. Tenha em mente algumas dicas:\n",
        "\n",
        "Três lados formam um triângulo quando a soma de quaisquer dois lados for maior que o terceiro;\n",
        "Triângulo Equilátero: três lados iguais;\n",
        "Triângulo Isósceles: quaisquer dois lados iguais;\n",
        "Triângulo Escaleno: três lados diferentes.\n",
        "\n",
        "12) Um estabelecimento está vendendo combustíveis com descontos variados. Para o etanol, se a quantidade comprada for até 15 litros, o desconto será de 2% por litro. Caso contrário, será de 4% por litro. Para o diesel, se a quantidade comprada for até 15 litros, o desconto será de 3% por litro. Caso contrário, será de 5% por litro. O preço do litro de diesel é R$ 2,00 e o preço do litro de etanol é R$ 1,70. Escreva um programa que leia a quantidade de litros vendidos e o tipo de combustível (E para etanol e D para diesel) e calcule o valor a ser pago pelo cliente. Tenha em mente algumas dicas:\n",
        "\n",
        "O do valor do desconto será a multiplicação entre preço do litro, quantidade de litros e o valor do desconto.\n",
        "O valor a ser pago por um cliente será o resultado da multiplicação do preço do litro pela quantidade de litros menos o valor de desconto resultante do cálculo.\n",
        "\n",
        "13) Em uma empresa de venda de imóveis você precisa criar um código que analise os dados de vendas anuais para ajudar a diretoria na tomada de decisão. O código precisa coletar os dados de quantidade de venda durante os anos de 2022 e 2023 e fazer um cálculo de variação percentual. A partir do valor da variação, deve ser enviada às seguintes sugestões:\n",
        "\n",
        "Para variação acima de 20%: bonificação para o time de vendas.\n",
        "Para variação entre 2% e 20%: pequena bonificação para time de vendas.\n",
        "Para variação entre 2% e -10%: planejamento de políticas de incentivo às vendas.\n",
        "Para bonificações abaixo de -10%: corte de gastos."
      ],
      "metadata": {
        "id": "Z0156Sn-TNbG"
      }
    },
    {
      "cell_type": "markdown",
      "source": [
        "1."
      ],
      "metadata": {
        "id": "FNO69KhgbVUj"
      }
    },
    {
      "cell_type": "code",
      "source": [
        "Numero1 = float(input(\"digite um número: \"))\n",
        "Numero2 = float(input(\"digite um número: \"))\n",
        "\n",
        "if Numero1 > Numero2:\n",
        "  print(f\"O número {Numero1} é o maior\")\n",
        "else:\n",
        "  print(f\"O número {Numero2} é o maior\")"
      ],
      "metadata": {
        "colab": {
          "base_uri": "https://localhost:8080/"
        },
        "id": "A2UqlcK_QqEy",
        "outputId": "cb4f349b-9403-4e29-edd0-a12f85eaae21"
      },
      "execution_count": 16,
      "outputs": [
        {
          "output_type": "stream",
          "name": "stdout",
          "text": [
            "digite um número: 12.\n",
            "digite um número: 12.5\n",
            "O número 12.5 é o maior\n"
          ]
        }
      ]
    },
    {
      "cell_type": "markdown",
      "source": [
        "2."
      ],
      "metadata": {
        "id": "FlhyQia1b99a"
      }
    },
    {
      "cell_type": "code",
      "source": [
        " Percentual = float(input(\"Digite o percentual de crescimento da empresa em %: \"))\n",
        " if Percentual > 0:\n",
        "  print(f\"A empresa teve uma crescimento de {Percentual}%\")\n",
        "else:\n",
        "  Percentual = -Percentual\n",
        "  print(f\"A empresa teve um decrescimento de {Percentual}%\")"
      ],
      "metadata": {
        "colab": {
          "base_uri": "https://localhost:8080/"
        },
        "id": "uaxyVCgObzWJ",
        "outputId": "c21b532a-4cae-46ff-b2b3-f9193b5d293d"
      },
      "execution_count": 20,
      "outputs": [
        {
          "output_type": "stream",
          "name": "stdout",
          "text": [
            "Digite o percentual de crescimento da empresa em %: 15.5\n",
            "A empresa teve uma crescimento de 15.5%\n"
          ]
        }
      ]
    },
    {
      "cell_type": "markdown",
      "source": [
        "3."
      ],
      "metadata": {
        "id": "_AAmdmbEc9J6"
      }
    },
    {
      "cell_type": "code",
      "source": [
        "Letra = input(\"Digite uma letra: \")\n",
        "Letra_M = Letra.upper()\n",
        "if Letra_M == 'A' or Letra_M == 'E' or Letra_M == 'I' or Letra_M == 'O' or Letra_M == 'U':\n",
        "  print(f\"A letra {Letra} é uma vogal!\")\n",
        "else:\n",
        "  print(f\"A letra {Letra} é uma consoante!\")"
      ],
      "metadata": {
        "colab": {
          "base_uri": "https://localhost:8080/"
        },
        "id": "GmMuXkqicXwO",
        "outputId": "86445465-a9cb-4ad6-a575-955edc54af96"
      },
      "execution_count": 27,
      "outputs": [
        {
          "output_type": "stream",
          "name": "stdout",
          "text": [
            "Digite uma letra: k\n",
            "A letra k é uma consoante!\n"
          ]
        }
      ]
    },
    {
      "cell_type": "markdown",
      "source": [
        "4."
      ],
      "metadata": {
        "id": "qR4KnPhjeNo0"
      }
    },
    {
      "cell_type": "code",
      "source": [
        "Ano1 = int(input(\"Digite o preço médio do modelo de carro no ano 1 \"))\n",
        "Ano2 = int(input(\"Digite o preço médio do modelo de carro no ano 2 \"))\n",
        "Ano3 = int(input(\"Digite o preço médio do modelo de carro no ano 3 \"))\n",
        "\n",
        "if Ano1 > Ano2:\n",
        "  if Ano1 > Ano3:\n",
        "    print(f\"O preço do ano 1, de {Ano1} reais, é o maior\")\n",
        "  elif Ano1 != Ano3:\n",
        "    print(f\"O preço do ano 1, de {Ano3} reais, é o maior\")\n",
        "  else:\n",
        "    print(f\"O preço do ano 1 e do ano 3, de {Ano1} reais, são iguais e é o maior preço\")\n",
        "elif Ano2 > Ano3:\n",
        "  if Ano2 > Ano1:\n",
        "    print(f\"O preço do ano 2, de {Ano2} reais, é o maior\")\n",
        "  else:\n",
        "    print(f\"O preço do ano 1 e do ano 2, de {Ano1} reais, são iguais e é o maior preço\")\n",
        "else:\n",
        "  if Ano3 > Ano2:\n",
        "    print(f\"O preço do ano 3, de {Ano3} reais, é o maior\")\n",
        "  elif Ano1 == Ano2:\n",
        "    print(f\"Opreço dos três anos são identicos e iguais a {Ano1} reais\")\n",
        "  else:\n",
        "    print(f\"O preço do ano 2 e do ano 3, de {Ano2} reais, são iguais e é o maior preço\")\n"
      ],
      "metadata": {
        "colab": {
          "base_uri": "https://localhost:8080/"
        },
        "id": "3iRr1Zfudsna",
        "outputId": "9ae58022-d224-4461-82e4-0304961c3fec"
      },
      "execution_count": 39,
      "outputs": [
        {
          "output_type": "stream",
          "name": "stdout",
          "text": [
            "Digite o preço médio do modelo de carro no ano 1 13\n",
            "Digite o preço médio do modelo de carro no ano 2 12\n",
            "Digite o preço médio do modelo de carro no ano 3 13\n",
            "O preço do ano 1 e do ano 3, de 13 reais, são iguais e é o maior preço\n"
          ]
        }
      ]
    },
    {
      "cell_type": "markdown",
      "source": [
        "5."
      ],
      "metadata": {
        "id": "wXS_6ZKGii_v"
      }
    },
    {
      "cell_type": "code",
      "source": [],
      "metadata": {
        "colab": {
          "base_uri": "https://localhost:8080/"
        },
        "id": "ZfSU-4eag8B1",
        "outputId": "dab98eef-7601-46cb-87fc-394ad53a0922"
      },
      "execution_count": 32,
      "outputs": [
        {
          "output_type": "execute_result",
          "data": {
            "text/plain": [
              "1"
            ]
          },
          "metadata": {},
          "execution_count": 32
        }
      ]
    },
    {
      "cell_type": "code",
      "source": [],
      "metadata": {
        "id": "wKVmDKmJhbfW"
      },
      "execution_count": null,
      "outputs": []
    }
  ]
}